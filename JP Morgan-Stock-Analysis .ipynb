{
 "cells": [
  {
   "cell_type": "code",
   "execution_count": 3,
   "metadata": {},
   "outputs": [
    {
     "name": "stdout",
     "output_type": "stream",
     "text": [
      "Populating the interactive namespace from numpy and matplotlib\n"
     ]
    }
   ],
   "source": [
    "%pylab inline \n",
    "import numpy\n",
    "import pandas\n",
    "import seaborn\n"
   ]
  },
  {
   "cell_type": "code",
   "execution_count": 4,
   "metadata": {
    "collapsed": true
   },
   "outputs": [],
   "source": [
    "data=pandas.read_csv('G:/codes/python/GOOG.csv')"
   ]
  },
  {
   "cell_type": "code",
   "execution_count": 5,
   "metadata": {},
   "outputs": [
    {
     "data": {
      "text/html": [
       "<div>\n",
       "<style>\n",
       "    .dataframe thead tr:only-child th {\n",
       "        text-align: right;\n",
       "    }\n",
       "\n",
       "    .dataframe thead th {\n",
       "        text-align: left;\n",
       "    }\n",
       "\n",
       "    .dataframe tbody tr th {\n",
       "        vertical-align: top;\n",
       "    }\n",
       "</style>\n",
       "<table border=\"1\" class=\"dataframe\">\n",
       "  <thead>\n",
       "    <tr style=\"text-align: right;\">\n",
       "      <th></th>\n",
       "      <th>Date</th>\n",
       "      <th>Open</th>\n",
       "      <th>High</th>\n",
       "      <th>Low</th>\n",
       "      <th>Close</th>\n",
       "      <th>Adj Close</th>\n",
       "      <th>Volume</th>\n",
       "    </tr>\n",
       "  </thead>\n",
       "  <tbody>\n",
       "    <tr>\n",
       "      <th>0</th>\n",
       "      <td>2018-05-18</td>\n",
       "      <td>1061.859985</td>\n",
       "      <td>1069.939941</td>\n",
       "      <td>1060.680054</td>\n",
       "      <td>1066.359985</td>\n",
       "      <td>1066.359985</td>\n",
       "      <td>1565200</td>\n",
       "    </tr>\n",
       "    <tr>\n",
       "      <th>1</th>\n",
       "      <td>2018-05-21</td>\n",
       "      <td>1074.060059</td>\n",
       "      <td>1088.000000</td>\n",
       "      <td>1073.650024</td>\n",
       "      <td>1079.579956</td>\n",
       "      <td>1079.579956</td>\n",
       "      <td>1023200</td>\n",
       "    </tr>\n",
       "    <tr>\n",
       "      <th>2</th>\n",
       "      <td>2018-05-22</td>\n",
       "      <td>1083.560059</td>\n",
       "      <td>1086.589966</td>\n",
       "      <td>1066.689941</td>\n",
       "      <td>1069.729980</td>\n",
       "      <td>1069.729980</td>\n",
       "      <td>1090000</td>\n",
       "    </tr>\n",
       "    <tr>\n",
       "      <th>3</th>\n",
       "      <td>2018-05-23</td>\n",
       "      <td>1065.130005</td>\n",
       "      <td>1080.780029</td>\n",
       "      <td>1061.709961</td>\n",
       "      <td>1079.689941</td>\n",
       "      <td>1079.689941</td>\n",
       "      <td>1030000</td>\n",
       "    </tr>\n",
       "    <tr>\n",
       "      <th>4</th>\n",
       "      <td>2018-05-24</td>\n",
       "      <td>1079.000000</td>\n",
       "      <td>1080.469971</td>\n",
       "      <td>1066.150024</td>\n",
       "      <td>1079.239990</td>\n",
       "      <td>1079.239990</td>\n",
       "      <td>756800</td>\n",
       "    </tr>\n",
       "    <tr>\n",
       "      <th>5</th>\n",
       "      <td>2018-05-25</td>\n",
       "      <td>1079.020020</td>\n",
       "      <td>1082.560059</td>\n",
       "      <td>1073.775024</td>\n",
       "      <td>1075.660034</td>\n",
       "      <td>1075.660034</td>\n",
       "      <td>899400</td>\n",
       "    </tr>\n",
       "    <tr>\n",
       "      <th>6</th>\n",
       "      <td>2018-05-29</td>\n",
       "      <td>1064.890015</td>\n",
       "      <td>1073.369995</td>\n",
       "      <td>1055.219971</td>\n",
       "      <td>1060.319946</td>\n",
       "      <td>1060.319946</td>\n",
       "      <td>1856900</td>\n",
       "    </tr>\n",
       "    <tr>\n",
       "      <th>7</th>\n",
       "      <td>2018-05-30</td>\n",
       "      <td>1063.030029</td>\n",
       "      <td>1069.209961</td>\n",
       "      <td>1056.829956</td>\n",
       "      <td>1067.800049</td>\n",
       "      <td>1067.800049</td>\n",
       "      <td>1138500</td>\n",
       "    </tr>\n",
       "    <tr>\n",
       "      <th>8</th>\n",
       "      <td>2018-05-31</td>\n",
       "      <td>1067.560059</td>\n",
       "      <td>1097.189941</td>\n",
       "      <td>1067.560059</td>\n",
       "      <td>1084.989990</td>\n",
       "      <td>1084.989990</td>\n",
       "      <td>3088300</td>\n",
       "    </tr>\n",
       "    <tr>\n",
       "      <th>9</th>\n",
       "      <td>2018-06-01</td>\n",
       "      <td>1099.349976</td>\n",
       "      <td>1120.000000</td>\n",
       "      <td>1098.500000</td>\n",
       "      <td>1119.500000</td>\n",
       "      <td>1119.500000</td>\n",
       "      <td>2412000</td>\n",
       "    </tr>\n",
       "    <tr>\n",
       "      <th>10</th>\n",
       "      <td>2018-06-04</td>\n",
       "      <td>1122.329956</td>\n",
       "      <td>1141.890015</td>\n",
       "      <td>1122.005005</td>\n",
       "      <td>1139.290039</td>\n",
       "      <td>1139.290039</td>\n",
       "      <td>1880000</td>\n",
       "    </tr>\n",
       "    <tr>\n",
       "      <th>11</th>\n",
       "      <td>2018-06-05</td>\n",
       "      <td>1140.989990</td>\n",
       "      <td>1145.738037</td>\n",
       "      <td>1133.189941</td>\n",
       "      <td>1139.660034</td>\n",
       "      <td>1139.660034</td>\n",
       "      <td>1678000</td>\n",
       "    </tr>\n",
       "    <tr>\n",
       "      <th>12</th>\n",
       "      <td>2018-06-06</td>\n",
       "      <td>1142.170044</td>\n",
       "      <td>1143.000000</td>\n",
       "      <td>1125.743042</td>\n",
       "      <td>1136.880005</td>\n",
       "      <td>1136.880005</td>\n",
       "      <td>1698200</td>\n",
       "    </tr>\n",
       "    <tr>\n",
       "      <th>13</th>\n",
       "      <td>2018-06-07</td>\n",
       "      <td>1131.319946</td>\n",
       "      <td>1135.819946</td>\n",
       "      <td>1116.520020</td>\n",
       "      <td>1123.859985</td>\n",
       "      <td>1123.859985</td>\n",
       "      <td>1520000</td>\n",
       "    </tr>\n",
       "    <tr>\n",
       "      <th>14</th>\n",
       "      <td>2018-06-08</td>\n",
       "      <td>1118.180054</td>\n",
       "      <td>1126.670044</td>\n",
       "      <td>1112.150024</td>\n",
       "      <td>1120.869995</td>\n",
       "      <td>1120.869995</td>\n",
       "      <td>1290800</td>\n",
       "    </tr>\n",
       "    <tr>\n",
       "      <th>15</th>\n",
       "      <td>2018-06-11</td>\n",
       "      <td>1118.599976</td>\n",
       "      <td>1137.260010</td>\n",
       "      <td>1118.599976</td>\n",
       "      <td>1129.989990</td>\n",
       "      <td>1129.989990</td>\n",
       "      <td>1079300</td>\n",
       "    </tr>\n",
       "    <tr>\n",
       "      <th>16</th>\n",
       "      <td>2018-06-12</td>\n",
       "      <td>1131.069946</td>\n",
       "      <td>1139.790039</td>\n",
       "      <td>1130.734985</td>\n",
       "      <td>1139.319946</td>\n",
       "      <td>1139.319946</td>\n",
       "      <td>912000</td>\n",
       "    </tr>\n",
       "    <tr>\n",
       "      <th>17</th>\n",
       "      <td>2018-06-13</td>\n",
       "      <td>1141.119995</td>\n",
       "      <td>1146.500000</td>\n",
       "      <td>1133.380005</td>\n",
       "      <td>1134.790039</td>\n",
       "      <td>1134.790039</td>\n",
       "      <td>1506400</td>\n",
       "    </tr>\n",
       "    <tr>\n",
       "      <th>18</th>\n",
       "      <td>2018-06-14</td>\n",
       "      <td>1143.849976</td>\n",
       "      <td>1155.469971</td>\n",
       "      <td>1140.640015</td>\n",
       "      <td>1152.119995</td>\n",
       "      <td>1152.119995</td>\n",
       "      <td>1343400</td>\n",
       "    </tr>\n",
       "    <tr>\n",
       "      <th>19</th>\n",
       "      <td>2018-06-15</td>\n",
       "      <td>1148.859985</td>\n",
       "      <td>1153.420044</td>\n",
       "      <td>1143.484985</td>\n",
       "      <td>1152.260010</td>\n",
       "      <td>1152.260010</td>\n",
       "      <td>2114800</td>\n",
       "    </tr>\n",
       "  </tbody>\n",
       "</table>\n",
       "</div>"
      ],
      "text/plain": [
       "          Date         Open         High          Low        Close  \\\n",
       "0   2018-05-18  1061.859985  1069.939941  1060.680054  1066.359985   \n",
       "1   2018-05-21  1074.060059  1088.000000  1073.650024  1079.579956   \n",
       "2   2018-05-22  1083.560059  1086.589966  1066.689941  1069.729980   \n",
       "3   2018-05-23  1065.130005  1080.780029  1061.709961  1079.689941   \n",
       "4   2018-05-24  1079.000000  1080.469971  1066.150024  1079.239990   \n",
       "5   2018-05-25  1079.020020  1082.560059  1073.775024  1075.660034   \n",
       "6   2018-05-29  1064.890015  1073.369995  1055.219971  1060.319946   \n",
       "7   2018-05-30  1063.030029  1069.209961  1056.829956  1067.800049   \n",
       "8   2018-05-31  1067.560059  1097.189941  1067.560059  1084.989990   \n",
       "9   2018-06-01  1099.349976  1120.000000  1098.500000  1119.500000   \n",
       "10  2018-06-04  1122.329956  1141.890015  1122.005005  1139.290039   \n",
       "11  2018-06-05  1140.989990  1145.738037  1133.189941  1139.660034   \n",
       "12  2018-06-06  1142.170044  1143.000000  1125.743042  1136.880005   \n",
       "13  2018-06-07  1131.319946  1135.819946  1116.520020  1123.859985   \n",
       "14  2018-06-08  1118.180054  1126.670044  1112.150024  1120.869995   \n",
       "15  2018-06-11  1118.599976  1137.260010  1118.599976  1129.989990   \n",
       "16  2018-06-12  1131.069946  1139.790039  1130.734985  1139.319946   \n",
       "17  2018-06-13  1141.119995  1146.500000  1133.380005  1134.790039   \n",
       "18  2018-06-14  1143.849976  1155.469971  1140.640015  1152.119995   \n",
       "19  2018-06-15  1148.859985  1153.420044  1143.484985  1152.260010   \n",
       "\n",
       "      Adj Close   Volume  \n",
       "0   1066.359985  1565200  \n",
       "1   1079.579956  1023200  \n",
       "2   1069.729980  1090000  \n",
       "3   1079.689941  1030000  \n",
       "4   1079.239990   756800  \n",
       "5   1075.660034   899400  \n",
       "6   1060.319946  1856900  \n",
       "7   1067.800049  1138500  \n",
       "8   1084.989990  3088300  \n",
       "9   1119.500000  2412000  \n",
       "10  1139.290039  1880000  \n",
       "11  1139.660034  1678000  \n",
       "12  1136.880005  1698200  \n",
       "13  1123.859985  1520000  \n",
       "14  1120.869995  1290800  \n",
       "15  1129.989990  1079300  \n",
       "16  1139.319946   912000  \n",
       "17  1134.790039  1506400  \n",
       "18  1152.119995  1343400  \n",
       "19  1152.260010  2114800  "
      ]
     },
     "execution_count": 5,
     "metadata": {},
     "output_type": "execute_result"
    }
   ],
   "source": [
    "data"
   ]
  },
  {
   "cell_type": "code",
   "execution_count": 6,
   "metadata": {},
   "outputs": [
    {
     "data": {
      "text/html": [
       "<div>\n",
       "<style>\n",
       "    .dataframe thead tr:only-child th {\n",
       "        text-align: right;\n",
       "    }\n",
       "\n",
       "    .dataframe thead th {\n",
       "        text-align: left;\n",
       "    }\n",
       "\n",
       "    .dataframe tbody tr th {\n",
       "        vertical-align: top;\n",
       "    }\n",
       "</style>\n",
       "<table border=\"1\" class=\"dataframe\">\n",
       "  <thead>\n",
       "    <tr style=\"text-align: right;\">\n",
       "      <th></th>\n",
       "      <th>Date</th>\n",
       "      <th>Open</th>\n",
       "      <th>High</th>\n",
       "      <th>Low</th>\n",
       "      <th>Close</th>\n",
       "      <th>Adj Close</th>\n",
       "      <th>Volume</th>\n",
       "    </tr>\n",
       "  </thead>\n",
       "  <tbody>\n",
       "    <tr>\n",
       "      <th>0</th>\n",
       "      <td>2018-05-18</td>\n",
       "      <td>1061.859985</td>\n",
       "      <td>1069.939941</td>\n",
       "      <td>1060.680054</td>\n",
       "      <td>1066.359985</td>\n",
       "      <td>1066.359985</td>\n",
       "      <td>1565200</td>\n",
       "    </tr>\n",
       "    <tr>\n",
       "      <th>1</th>\n",
       "      <td>2018-05-21</td>\n",
       "      <td>1074.060059</td>\n",
       "      <td>1088.000000</td>\n",
       "      <td>1073.650024</td>\n",
       "      <td>1079.579956</td>\n",
       "      <td>1079.579956</td>\n",
       "      <td>1023200</td>\n",
       "    </tr>\n",
       "    <tr>\n",
       "      <th>2</th>\n",
       "      <td>2018-05-22</td>\n",
       "      <td>1083.560059</td>\n",
       "      <td>1086.589966</td>\n",
       "      <td>1066.689941</td>\n",
       "      <td>1069.729980</td>\n",
       "      <td>1069.729980</td>\n",
       "      <td>1090000</td>\n",
       "    </tr>\n",
       "    <tr>\n",
       "      <th>3</th>\n",
       "      <td>2018-05-23</td>\n",
       "      <td>1065.130005</td>\n",
       "      <td>1080.780029</td>\n",
       "      <td>1061.709961</td>\n",
       "      <td>1079.689941</td>\n",
       "      <td>1079.689941</td>\n",
       "      <td>1030000</td>\n",
       "    </tr>\n",
       "    <tr>\n",
       "      <th>4</th>\n",
       "      <td>2018-05-24</td>\n",
       "      <td>1079.000000</td>\n",
       "      <td>1080.469971</td>\n",
       "      <td>1066.150024</td>\n",
       "      <td>1079.239990</td>\n",
       "      <td>1079.239990</td>\n",
       "      <td>756800</td>\n",
       "    </tr>\n",
       "  </tbody>\n",
       "</table>\n",
       "</div>"
      ],
      "text/plain": [
       "         Date         Open         High          Low        Close  \\\n",
       "0  2018-05-18  1061.859985  1069.939941  1060.680054  1066.359985   \n",
       "1  2018-05-21  1074.060059  1088.000000  1073.650024  1079.579956   \n",
       "2  2018-05-22  1083.560059  1086.589966  1066.689941  1069.729980   \n",
       "3  2018-05-23  1065.130005  1080.780029  1061.709961  1079.689941   \n",
       "4  2018-05-24  1079.000000  1080.469971  1066.150024  1079.239990   \n",
       "\n",
       "     Adj Close   Volume  \n",
       "0  1066.359985  1565200  \n",
       "1  1079.579956  1023200  \n",
       "2  1069.729980  1090000  \n",
       "3  1079.689941  1030000  \n",
       "4  1079.239990   756800  "
      ]
     },
     "execution_count": 6,
     "metadata": {},
     "output_type": "execute_result"
    }
   ],
   "source": [
    "data.head()"
   ]
  },
  {
   "cell_type": "code",
   "execution_count": 7,
   "metadata": {
    "collapsed": true
   },
   "outputs": [],
   "source": [
    "dt='2018-05-18'"
   ]
  },
  {
   "cell_type": "code",
   "execution_count": 8,
   "metadata": {
    "collapsed": true
   },
   "outputs": [],
   "source": [
    "dt=pandas.to_datetime(dt)"
   ]
  },
  {
   "cell_type": "code",
   "execution_count": 9,
   "metadata": {
    "collapsed": true
   },
   "outputs": [],
   "source": [
    "data['Date']=data['Date'].map(pandas.to_datetime)"
   ]
  },
  {
   "cell_type": "code",
   "execution_count": 10,
   "metadata": {
    "collapsed": true
   },
   "outputs": [],
   "source": [
    "def get_day(dt):\n",
    "     return dt.day\n",
    "\n",
    "data['Day_of_Month'] = data['Date'].map(get_day)"
   ]
  },
  {
   "cell_type": "code",
   "execution_count": 11,
   "metadata": {},
   "outputs": [
    {
     "data": {
      "text/html": [
       "<div>\n",
       "<style>\n",
       "    .dataframe thead tr:only-child th {\n",
       "        text-align: right;\n",
       "    }\n",
       "\n",
       "    .dataframe thead th {\n",
       "        text-align: left;\n",
       "    }\n",
       "\n",
       "    .dataframe tbody tr th {\n",
       "        vertical-align: top;\n",
       "    }\n",
       "</style>\n",
       "<table border=\"1\" class=\"dataframe\">\n",
       "  <thead>\n",
       "    <tr style=\"text-align: right;\">\n",
       "      <th></th>\n",
       "      <th>Date</th>\n",
       "      <th>Open</th>\n",
       "      <th>High</th>\n",
       "      <th>Low</th>\n",
       "      <th>Close</th>\n",
       "      <th>Adj Close</th>\n",
       "      <th>Volume</th>\n",
       "      <th>Day_of_Month</th>\n",
       "    </tr>\n",
       "  </thead>\n",
       "  <tbody>\n",
       "    <tr>\n",
       "      <th>15</th>\n",
       "      <td>2018-06-11</td>\n",
       "      <td>1118.599976</td>\n",
       "      <td>1137.260010</td>\n",
       "      <td>1118.599976</td>\n",
       "      <td>1129.989990</td>\n",
       "      <td>1129.989990</td>\n",
       "      <td>1079300</td>\n",
       "      <td>11</td>\n",
       "    </tr>\n",
       "    <tr>\n",
       "      <th>16</th>\n",
       "      <td>2018-06-12</td>\n",
       "      <td>1131.069946</td>\n",
       "      <td>1139.790039</td>\n",
       "      <td>1130.734985</td>\n",
       "      <td>1139.319946</td>\n",
       "      <td>1139.319946</td>\n",
       "      <td>912000</td>\n",
       "      <td>12</td>\n",
       "    </tr>\n",
       "    <tr>\n",
       "      <th>17</th>\n",
       "      <td>2018-06-13</td>\n",
       "      <td>1141.119995</td>\n",
       "      <td>1146.500000</td>\n",
       "      <td>1133.380005</td>\n",
       "      <td>1134.790039</td>\n",
       "      <td>1134.790039</td>\n",
       "      <td>1506400</td>\n",
       "      <td>13</td>\n",
       "    </tr>\n",
       "    <tr>\n",
       "      <th>18</th>\n",
       "      <td>2018-06-14</td>\n",
       "      <td>1143.849976</td>\n",
       "      <td>1155.469971</td>\n",
       "      <td>1140.640015</td>\n",
       "      <td>1152.119995</td>\n",
       "      <td>1152.119995</td>\n",
       "      <td>1343400</td>\n",
       "      <td>14</td>\n",
       "    </tr>\n",
       "    <tr>\n",
       "      <th>19</th>\n",
       "      <td>2018-06-15</td>\n",
       "      <td>1148.859985</td>\n",
       "      <td>1153.420044</td>\n",
       "      <td>1143.484985</td>\n",
       "      <td>1152.260010</td>\n",
       "      <td>1152.260010</td>\n",
       "      <td>2114800</td>\n",
       "      <td>15</td>\n",
       "    </tr>\n",
       "  </tbody>\n",
       "</table>\n",
       "</div>"
      ],
      "text/plain": [
       "         Date         Open         High          Low        Close  \\\n",
       "15 2018-06-11  1118.599976  1137.260010  1118.599976  1129.989990   \n",
       "16 2018-06-12  1131.069946  1139.790039  1130.734985  1139.319946   \n",
       "17 2018-06-13  1141.119995  1146.500000  1133.380005  1134.790039   \n",
       "18 2018-06-14  1143.849976  1155.469971  1140.640015  1152.119995   \n",
       "19 2018-06-15  1148.859985  1153.420044  1143.484985  1152.260010   \n",
       "\n",
       "      Adj Close   Volume  Day_of_Month  \n",
       "15  1129.989990  1079300            11  \n",
       "16  1139.319946   912000            12  \n",
       "17  1134.790039  1506400            13  \n",
       "18  1152.119995  1343400            14  \n",
       "19  1152.260010  2114800            15  "
      ]
     },
     "execution_count": 11,
     "metadata": {},
     "output_type": "execute_result"
    }
   ],
   "source": [
    "data.tail()"
   ]
  },
  {
   "cell_type": "code",
   "execution_count": 8,
   "metadata": {},
   "outputs": [
    {
     "data": {
      "text/html": [
       "<div>\n",
       "<style>\n",
       "    .dataframe thead tr:only-child th {\n",
       "        text-align: right;\n",
       "    }\n",
       "\n",
       "    .dataframe thead th {\n",
       "        text-align: left;\n",
       "    }\n",
       "\n",
       "    .dataframe tbody tr th {\n",
       "        vertical-align: top;\n",
       "    }\n",
       "</style>\n",
       "<table border=\"1\" class=\"dataframe\">\n",
       "  <thead>\n",
       "    <tr style=\"text-align: right;\">\n",
       "      <th></th>\n",
       "      <th>Date</th>\n",
       "      <th>Open</th>\n",
       "      <th>High</th>\n",
       "      <th>Low</th>\n",
       "      <th>Close</th>\n",
       "      <th>Adj Close</th>\n",
       "      <th>Volume</th>\n",
       "    </tr>\n",
       "  </thead>\n",
       "  <tbody>\n",
       "    <tr>\n",
       "      <th>0</th>\n",
       "      <td>2018-05-18</td>\n",
       "      <td>1061.859985</td>\n",
       "      <td>1069.939941</td>\n",
       "      <td>1060.680054</td>\n",
       "      <td>1066.359985</td>\n",
       "      <td>1066.359985</td>\n",
       "      <td>1565200</td>\n",
       "    </tr>\n",
       "    <tr>\n",
       "      <th>1</th>\n",
       "      <td>2018-05-21</td>\n",
       "      <td>1074.060059</td>\n",
       "      <td>1088.000000</td>\n",
       "      <td>1073.650024</td>\n",
       "      <td>1079.579956</td>\n",
       "      <td>1079.579956</td>\n",
       "      <td>1023200</td>\n",
       "    </tr>\n",
       "    <tr>\n",
       "      <th>2</th>\n",
       "      <td>2018-05-22</td>\n",
       "      <td>1083.560059</td>\n",
       "      <td>1086.589966</td>\n",
       "      <td>1066.689941</td>\n",
       "      <td>1069.729980</td>\n",
       "      <td>1069.729980</td>\n",
       "      <td>1090000</td>\n",
       "    </tr>\n",
       "    <tr>\n",
       "      <th>3</th>\n",
       "      <td>2018-05-23</td>\n",
       "      <td>1065.130005</td>\n",
       "      <td>1080.780029</td>\n",
       "      <td>1061.709961</td>\n",
       "      <td>1079.689941</td>\n",
       "      <td>1079.689941</td>\n",
       "      <td>1030000</td>\n",
       "    </tr>\n",
       "    <tr>\n",
       "      <th>4</th>\n",
       "      <td>2018-05-24</td>\n",
       "      <td>1079.000000</td>\n",
       "      <td>1080.469971</td>\n",
       "      <td>1066.150024</td>\n",
       "      <td>1079.239990</td>\n",
       "      <td>1079.239990</td>\n",
       "      <td>756800</td>\n",
       "    </tr>\n",
       "  </tbody>\n",
       "</table>\n",
       "</div>"
      ],
      "text/plain": [
       "         Date         Open         High          Low        Close  \\\n",
       "0  2018-05-18  1061.859985  1069.939941  1060.680054  1066.359985   \n",
       "1  2018-05-21  1074.060059  1088.000000  1073.650024  1079.579956   \n",
       "2  2018-05-22  1083.560059  1086.589966  1066.689941  1069.729980   \n",
       "3  2018-05-23  1065.130005  1080.780029  1061.709961  1079.689941   \n",
       "4  2018-05-24  1079.000000  1080.469971  1066.150024  1079.239990   \n",
       "\n",
       "     Adj Close   Volume  \n",
       "0  1066.359985  1565200  \n",
       "1  1079.579956  1023200  \n",
       "2  1069.729980  1090000  \n",
       "3  1079.689941  1030000  \n",
       "4  1079.239990   756800  "
      ]
     },
     "execution_count": 8,
     "metadata": {},
     "output_type": "execute_result"
    }
   ],
   "source": [
    "data.head()"
   ]
  },
  {
   "cell_type": "code",
   "execution_count": null,
   "metadata": {
    "collapsed": true
   },
   "outputs": [],
   "source": []
  },
  {
   "cell_type": "markdown",
   "metadata": {},
   "source": [
    "#analyze the Date of month\n"
   ]
  },
  {
   "cell_type": "code",
   "execution_count": 12,
   "metadata": {},
   "outputs": [
    {
     "data": {
      "text/plain": [
       "(array([ 2.,  1.,  0.,  1.,  3.,  0.,  1.,  0.,  0.,  0.,  0.,  0.,  0.,\n",
       "         0.,  0.,  0.,  0.,  0.,  1.,  1.,  1.,  0.,  1.,  1.,  1.,  3.,\n",
       "         0.,  0.,  0.,  2.]),\n",
       " array([ 1066.359985  ,  1069.22331917,  1072.08665333,  1074.9499875 ,\n",
       "         1077.81332167,  1080.67665583,  1083.53999   ,  1086.40332417,\n",
       "         1089.26665833,  1092.1299925 ,  1094.99332667,  1097.85666083,\n",
       "         1100.719995  ,  1103.58332917,  1106.44666333,  1109.3099975 ,\n",
       "         1112.17333167,  1115.03666583,  1117.9       ,  1120.76333417,\n",
       "         1123.62666833,  1126.4900025 ,  1129.35333667,  1132.21667083,\n",
       "         1135.080005  ,  1137.94333917,  1140.80667333,  1143.6700075 ,\n",
       "         1146.53334167,  1149.39667583,  1152.26001   ]),\n",
       " <a list of 30 Patch objects>)"
      ]
     },
     "execution_count": 12,
     "metadata": {},
     "output_type": "execute_result"
    },
    {
     "data": {
      "image/png": "[encoded data removed]",
      "text/plain": [
       "<matplotlib.figure.Figure at 0xb1a78f0>"
      ]
     },
     "metadata": {},
     "output_type": "display_data"
    }
   ],
   "source": [
    "hist(data['Adj Close'],bins=30,range=(1066.359985,1152.260010))"
   ]
  },
  {
   "cell_type": "code",
   "execution_count": 15,
   "metadata": {},
   "outputs": [
    {
     "data": {
      "text/plain": [
       "(array([ 2.,  3.,  0.,  0.,  1.,  2.,  0.,  1.,  0.,  0.,  0.,  0.,  1.,\n",
       "         0.,  0.,  0.,  0.,  0.,  0.,  2.,  1.,  0.,  0.,  2.,  0.,  0.,\n",
       "         0.,  3.,  1.,  1.]),\n",
       " array([ 1061.859985,  1064.759985,  1067.659985,  1070.559985,\n",
       "         1073.459985,  1076.359985,  1079.259985,  1082.159985,\n",
       "         1085.059985,  1087.959985,  1090.859985,  1093.759985,\n",
       "         1096.659985,  1099.559985,  1102.459985,  1105.359985,\n",
       "         1108.259985,  1111.159985,  1114.059985,  1116.959985,\n",
       "         1119.859985,  1122.759985,  1125.659985,  1128.559985,\n",
       "         1131.459985,  1134.359985,  1137.259985,  1140.159985,\n",
       "         1143.059985,  1145.959985,  1148.859985]),\n",
       " <a list of 30 Patch objects>)"
      ]
     },
     "execution_count": 15,
     "metadata": {},
     "output_type": "execute_result"
    },
    {
     "data": {
      "image/png": "[encoded data removed]",
      "text/plain": [
       "<matplotlib.figure.Figure at 0xb519630>"
      ]
     },
     "metadata": {},
     "output_type": "display_data"
    }
   ],
   "source": [
    "hist(data['Open'],bins=30,color='r',range=(1061.859985,1148.859985))"
   ]
  },
  {
   "cell_type": "code",
   "execution_count": 22,
   "metadata": {},
   "outputs": [
    {
     "data": {
      "text/plain": [
       "(array([ 1.,  2.,  0.,  2.,  3.,  0.,  1.,  1.,  0.,  2.,  1.,  1.,  1.,\n",
       "         0.,  2.,  0.,  0.,  1.,  0.,  0.,  0.,  1.,  0.,  0.,  0.,  0.,\n",
       "         0.,  0.,  0.,  1.]),\n",
       " array([  756800.        ,   834516.66666667,   912233.33333333,\n",
       "          989950.        ,  1067666.66666667,  1145383.33333333,\n",
       "         1223100.        ,  1300816.66666667,  1378533.33333333,\n",
       "         1456250.        ,  1533966.66666667,  1611683.33333333,\n",
       "         1689400.        ,  1767116.66666667,  1844833.33333333,\n",
       "         1922550.        ,  2000266.66666667,  2077983.33333333,\n",
       "         2155700.        ,  2233416.66666667,  2311133.33333333,\n",
       "         2388850.        ,  2466566.66666667,  2544283.33333333,\n",
       "         2622000.        ,  2699716.66666667,  2777433.33333333,\n",
       "         2855150.        ,  2932866.66666667,  3010583.33333333,  3088300.        ]),\n",
       " <a list of 30 Patch objects>)"
      ]
     },
     "execution_count": 22,
     "metadata": {},
     "output_type": "execute_result"
    },
    {
     "data": {
      "image/png": "[encoded data removed]",
      "text/plain": [
       "<matplotlib.figure.Figure at 0xc007fd0>"
      ]
     },
     "metadata": {},
     "output_type": "display_data"
    }
   ],
   "source": [
    "hist(data['Volume'],bins=30,color='y',range=(756800,3088300))"
   ]
  },
  {
   "cell_type": "code",
   "execution_count": 30,
   "metadata": {},
   "outputs": [
    {
     "data": {
      "text/plain": [
       "''"
      ]
     },
     "execution_count": 30,
     "metadata": {},
     "output_type": "execute_result"
    },
    {
     "data": {
      "image/png": "[encoded data removed]",
      "text/plain": [
       "<matplotlib.figure.Figure at 0xc1d2450>"
      ]
     },
     "metadata": {},
     "output_type": "display_data"
    }
   ],
   "source": [
    "hist(data['Adj Close'],bins=30,color='b',range=(1066.359985,1152.260010),label='Close',alpha=0.5)\n",
    "grid()\n",
    "legend(loc='upper left')\n",
    "twiny()\n",
    "hist(data['Open'],bins=30,color='r',range=(1061.859985,1148.859985),label='Open',alpha=0.5)\n",
    "grid()\n",
    "legend(loc='best')\n",
    "twiny()\n",
    "hist(data['Volume'],bins=30,color='y',range=(756800,3088300),label='Volume',alpha=0.5)\n",
    "grid()\n",
    "legend(loc='upper right')\n",
    ";"
   ]
  },
  {
   "cell_type": "code",
   "execution_count": 31,
   "metadata": {},
   "outputs": [
    {
     "data": {
      "text/plain": [
       "[<matplotlib.lines.Line2D at 0x87d0230>]"
      ]
     },
     "execution_count": 31,
     "metadata": {},
     "output_type": "execute_result"
    },
    {
     "data": {
      "image/png": "[encoded data removed]",
      "text/plain": [
       "<matplotlib.figure.Figure at 0xb565570>"
      ]
     },
     "metadata": {},
     "output_type": "display_data"
    }
   ],
   "source": [
    "plot(data['Volume'])"
   ]
  },
  {
   "cell_type": "code",
   "execution_count": 33,
   "metadata": {},
   "outputs": [
    {
     "data": {
      "text/plain": [
       "[<matplotlib.lines.Line2D at 0xc1be5f0>]"
      ]
     },
     "execution_count": 33,
     "metadata": {},
     "output_type": "execute_result"
    },
    {
     "data": {
      "image/png": "[encoded data removed]",
      "text/plain": [
       "<matplotlib.figure.Figure at 0xc0e7ed0>"
      ]
     },
     "metadata": {},
     "output_type": "display_data"
    }
   ],
   "source": [
    "plot(data['Adj Close'])"
   ]
  },
  {
   "cell_type": "code",
   "execution_count": 36,
   "metadata": {},
   "outputs": [
    {
     "data": {
      "text/plain": [
       "[<matplotlib.lines.Line2D at 0xb64aed0>]"
      ]
     },
     "execution_count": 36,
     "metadata": {},
     "output_type": "execute_result"
    },
    {
     "data": {
      "image/png": "[encoded data removed]",
      "text/plain": [
       "<matplotlib.figure.Figure at 0xc0e7ab0>"
      ]
     },
     "metadata": {},
     "output_type": "display_data"
    }
   ],
   "source": [
    "plot(data['Open'])"
   ]
  },
  {
   "cell_type": "code",
   "execution_count": 37,
   "metadata": {},
   "outputs": [
    {
     "data": {
      "text/plain": [
       "[<matplotlib.lines.Line2D at 0xb68da50>]"
      ]
     },
     "execution_count": 37,
     "metadata": {},
     "output_type": "execute_result"
    },
    {
     "data": {
      "image/png": "[encoded data removed]",
      "text/plain": [
       "<matplotlib.figure.Figure at 0xc19c490>"
      ]
     },
     "metadata": {},
     "output_type": "display_data"
    }
   ],
   "source": [
    "plot(data['Open'],'^',color='g',ms=20)\n",
    "plot(data['Adj Close'],'^',color='r',ms=20)"
   ]
  },
  {
   "cell_type": "code",
   "execution_count": 38,
   "metadata": {},
   "outputs": [
    {
     "data": {
      "text/plain": [
       "[<matplotlib.lines.Line2D at 0xb6ce3f0>]"
      ]
     },
     "execution_count": 38,
     "metadata": {},
     "output_type": "execute_result"
    },
    {
     "data": {
      "image/png": "[encoded data removed]",
      "text/plain": [
       "<matplotlib.figure.Figure at 0xb671830>"
      ]
     },
     "metadata": {},
     "output_type": "display_data"
    }
   ],
   "source": [
    "plot(data['Open'],'^',color='g',ms=20,label='Open')\n",
    "plot(data['Adj Close'],'^',color='r',ms=20,label='Close')"
   ]
  },
  {
   "cell_type": "code",
   "execution_count": 42,
   "metadata": {},
   "outputs": [
    {
     "data": {
      "text/plain": [
       "[<matplotlib.lines.Line2D at 0xc1e64f0>]"
      ]
     },
     "execution_count": 42,
     "metadata": {},
     "output_type": "execute_result"
    },
    {
     "data": {
      "image/png": "[encoded data removed]",
      "text/plain": [
       "<matplotlib.figure.Figure at 0xc3ed0d0>"
      ]
     },
     "metadata": {},
     "output_type": "display_data"
    }
   ],
   "source": [
    "plot(data['Open'],data['Adj Close'],'.',ms=10,alpha=0.5)"
   ]
  },
  {
   "cell_type": "code",
   "execution_count": 47,
   "metadata": {},
   "outputs": [
    {
     "data": {
      "text/plain": [
       "(1060, 1150)"
      ]
     },
     "execution_count": 47,
     "metadata": {},
     "output_type": "execute_result"
    },
    {
     "data": {
      "image/png": "[encoded data removed]",
      "text/plain": [
       "<matplotlib.figure.Figure at 0xd4b7050>"
      ]
     },
     "metadata": {},
     "output_type": "display_data"
    }
   ],
   "source": [
    "figure(figsize=(20,20))\n",
    "plot(data['Open'],data['Adj Close'],'^',ms=10,alpha=0.5)\n",
    "xlim(1060,1150)\n",
    "ylim(1060,1150)"
   ]
  },
  {
   "cell_type": "code",
   "execution_count": null,
   "metadata": {
    "collapsed": true
   },
   "outputs": [],
   "source": []
  }
 ],
 "metadata": {
  "kernelspec": {
   "display_name": "Python 3",
   "language": "python",
   "name": "python3"
  },
  "language_info": {
   "codemirror_mode": {
    "name": "ipython",
    "version": 3
   },
   "file_extension": ".py",
   "mimetype": "text/x-python",
   "name": "python",
   "nbconvert_exporter": "python",
   "pygments_lexer": "ipython3",
   "version": "3.6.3"
  }
 },
 "nbformat": 4,
 "nbformat_minor": 2
}
